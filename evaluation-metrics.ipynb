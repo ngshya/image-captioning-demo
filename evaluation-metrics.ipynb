{
 "cells": [
  {
   "cell_type": "markdown",
   "metadata": {},
   "source": "# BLEU, METEOR, CIDEr"
  },
  {
   "cell_type": "code",
   "execution_count": 1,
   "metadata": {},
   "outputs": [],
   "source": "from nltk.translate.bleu_score import sentence_bleu\nfrom nltk.translate.meteor_score import meteor_score\nfrom pycocoevalcap.eval import COCOEvalCap as COCOEval"
  },
  {
   "cell_type": "code",
   "execution_count": 2,
   "metadata": {},
   "outputs": [
    {
     "name": "stderr",
     "output_type": "stream",
     "text": "[nltk_data] Downloading package wordnet to /home/ngshya/nltk_data...\n[nltk_data]   Package wordnet is already up-to-date!\n"
    },
    {
     "data": {
      "text/plain": "True"
     },
     "execution_count": 2,
     "metadata": {},
     "output_type": "execute_result"
    }
   ],
   "source": "from nltk import download\ndownload('wordnet')"
  },
  {
   "cell_type": "code",
   "execution_count": 3,
   "metadata": {},
   "outputs": [
    {
     "name": "stdout",
     "output_type": "stream",
     "text": "\u001b[33mDEPRECATION: Python 2.7 will reach the end of its life on January 1st, 2020. Please upgrade your Python as Python 2.7 won't be maintained after that date. A future version of pip will drop support for Python 2.7. More details about Python 2 support in pip, can be found at https://pip.pypa.io/en/latest/development/release-process/#python-2-support\u001b[0m\r\nattrs==19.3.0\r\nbackports-abc==0.5\r\nbackports.shutil-get-terminal-size==1.0.0\r\nbleach==3.1.0\r\nconfigparser==4.0.2\r\ncontextlib2==0.6.0.post1\r\ndecorator==4.4.1\r\ndefusedxml==0.6.0\r\nentrypoints==0.3\r\nenum34==1.1.6\r\nfunctools32==3.2.3.post2\r\nfutures==3.3.0\r\nimportlib-metadata==1.4.0\r\nipaddress==1.0.23\r\nipykernel==4.10.1\r\nipython==5.8.0\r\nipython-genutils==0.2.0\r\nipywidgets==7.5.1\r\nJinja2==2.10.3\r\njsonschema==3.2.0\r\njupyter==1.0.0\r\njupyter-client==5.3.4\r\njupyter-console==5.2.0\r\njupyter-core==4.6.1\r\nMarkupSafe==1.1.1\r\nmistune==0.8.4\r\nmore-itertools==5.0.0\r\nnbconvert==5.6.1\r\nnbformat==5.0.3\r\nnltk==3.4.5\r\nnotebook==5.7.8\r\nnumpy==1.16.6\r\npandocfilters==1.4.2\r\npathlib2==2.3.5\r\npexpect==4.7.0\r\npickleshare==0.7.5\r\nprometheus-client==0.7.1\r\nprompt-toolkit==1.0.18\r\nptyprocess==0.6.0\r\nPygments==2.5.2\r\npyrsistent==0.15.7\r\npython-dateutil==2.8.1\r\npyzmq==18.1.1\r\nqtconsole==4.6.0\r\nscandir==1.10.0\r\nSend2Trash==1.5.0\r\nsimplegeneric==0.8.1\r\nsingledispatch==3.4.0.3\r\nsix==1.14.0\r\nterminado==0.8.3\r\ntestpath==0.4.4\r\ntornado==5.1.1\r\ntraitlets==4.3.3\r\nwcwidth==0.1.8\r\nwebencodings==0.5.1\r\nwidgetsnbextension==3.5.1\r\nzipp==1.0.0\r\n"
    }
   ],
   "source": "!pip freeze"
  },
  {
   "cell_type": "markdown",
   "metadata": {},
   "source": "## Sentences "
  },
  {
   "cell_type": "code",
   "execution_count": 4,
   "metadata": {},
   "outputs": [],
   "source": "reference1 = \"the kitty is on the table and it is sleeping and the sky is blue\"\nhypothesis1 = \"the kitten is sleeping and it is on the table\"\nhypothesis2 = \"the kitty is on the table the kitty is sleeping\"\nhypothesis3 = \"the kitty is on the kitty is on the is on the the table and it\"\nhypothesis4 = \"kitty sleeping on the table while the sky is blue\""
  },
  {
   "cell_type": "markdown",
   "metadata": {},
   "source": " "
  },
  {
   "cell_type": "markdown",
   "metadata": {},
   "source": "## BLEU"
  },
  {
   "cell_type": "code",
   "execution_count": 5,
   "metadata": {},
   "outputs": [
    {
     "name": "stdout",
     "output_type": "stream",
     "text": "REFERENCE: the kitty is on the table and it is sleeping and the sky is blue\nCANDIDATE: the kitten is sleeping and it is on the table\n0.286810641013\n"
    }
   ],
   "source": "print(\"REFERENCE: \" + reference1)\nprint(\"CANDIDATE: \" + hypothesis1)\nprint(sentence_bleu([reference1.split(\" \")], hypothesis1.split(\" \")))"
  },
  {
   "cell_type": "code",
   "execution_count": 6,
   "metadata": {},
   "outputs": [
    {
     "name": "stdout",
     "output_type": "stream",
     "text": "REFERENCE: the kitty is on the table and it is sleeping and the sky is blue\nCANDIDATE: the kitty is on the table the kitty is sleeping\n0.363194176526\n"
    }
   ],
   "source": "print(\"REFERENCE: \" + reference1)\nprint(\"CANDIDATE: \" + hypothesis2)\nprint(sentence_bleu([reference1.split(\" \")], hypothesis2.split(\" \")))"
  },
  {
   "cell_type": "code",
   "execution_count": 7,
   "metadata": {},
   "outputs": [
    {
     "name": "stdout",
     "output_type": "stream",
     "text": "REFERENCE: the kitty is on the table and it is sleeping and the sky is blue\nCANDIDATE: the kitty is on the kitty is on the is on the the table and it\n0.403250429506\n"
    }
   ],
   "source": "print(\"REFERENCE: \" + reference1)\nprint(\"CANDIDATE: \" + hypothesis3)\nprint(sentence_bleu([reference1.split(\" \")], hypothesis3.split(\" \")))"
  },
  {
   "cell_type": "code",
   "execution_count": 8,
   "metadata": {},
   "outputs": [
    {
     "name": "stdout",
     "output_type": "stream",
     "text": "REFERENCE: the kitty is on the table and it is sleeping and the sky is blue\nCANDIDATE: kitty sleeping on the table while the sky is blue\n0.245374013773\n"
    }
   ],
   "source": "print(\"REFERENCE: \" + reference1)\nprint(\"CANDIDATE: \" + hypothesis4)\nprint(sentence_bleu([reference1.split(\" \")], hypothesis4.split(\" \")))"
  },
  {
   "cell_type": "markdown",
   "metadata": {},
   "source": " "
  },
  {
   "cell_type": "markdown",
   "metadata": {},
   "source": "## kitty != kitten?"
  },
  {
   "cell_type": "code",
   "execution_count": 9,
   "metadata": {},
   "outputs": [
    {
     "data": {
      "text/plain": "0"
     },
     "execution_count": 9,
     "metadata": {},
     "output_type": "execute_result"
    }
   ],
   "source": "sentence_bleu([[\"kitty\"]], [\"kitten\"])"
  },
  {
   "cell_type": "code",
   "execution_count": 10,
   "metadata": {},
   "outputs": [
    {
     "data": {
      "text/plain": "0.5"
     },
     "execution_count": 10,
     "metadata": {},
     "output_type": "execute_result"
    }
   ],
   "source": "meteor_score([\"kitty\"], \"kitten\", 4)"
  },
  {
   "cell_type": "markdown",
   "metadata": {},
   "source": " "
  },
  {
   "cell_type": "markdown",
   "metadata": {},
   "source": "## METEOR"
  },
  {
   "cell_type": "code",
   "execution_count": 11,
   "metadata": {},
   "outputs": [
    {
     "name": "stdout",
     "output_type": "stream",
     "text": "REFERENCE: the kitty is on the table and it is sleeping and the sky is blue\nCANDIDATE: the kitten is sleeping and it is on the table\n0.513103448276\n"
    }
   ],
   "source": "print(\"REFERENCE: \" + reference1)\nprint(\"CANDIDATE: \" + hypothesis1)\nprint(meteor_score([reference1], hypothesis1, 4))"
  },
  {
   "cell_type": "code",
   "execution_count": 12,
   "metadata": {},
   "outputs": [
    {
     "name": "stdout",
     "output_type": "stream",
     "text": "REFERENCE: the kitty is on the table and it is sleeping and the sky is blue\nCANDIDATE: the kitty is on the table the kitty is sleeping\n0.474670072371\n"
    }
   ],
   "source": "print(\"REFERENCE: \" + reference1)\nprint(\"CANDIDATE: \" + hypothesis2)\nprint(meteor_score([reference1], hypothesis2, 4))"
  },
  {
   "cell_type": "code",
   "execution_count": 13,
   "metadata": {},
   "outputs": [
    {
     "name": "stdout",
     "output_type": "stream",
     "text": "REFERENCE: the kitty is on the table and it is sleeping and the sky is blue\nCANDIDATE: the kitty is on the kitty is on the is on the the table and it\n0.454819112254\n"
    }
   ],
   "source": "print(\"REFERENCE: \" + reference1)\nprint(\"CANDIDATE: \" + hypothesis3)\nprint(meteor_score([reference1], hypothesis3, 4))"
  },
  {
   "cell_type": "code",
   "execution_count": 14,
   "metadata": {},
   "outputs": [
    {
     "name": "stdout",
     "output_type": "stream",
     "text": "REFERENCE: the kitty is on the table and it is sleeping and the sky is blue\nCANDIDATE: kitty sleeping on the table while the sky is blue\n0.593444018731\n"
    }
   ],
   "source": "print(\"REFERENCE: \" + reference1)\nprint(\"CANDIDATE: \" + hypothesis4)\nprint(meteor_score([reference1], hypothesis4, 4))"
  },
  {
   "cell_type": "markdown",
   "metadata": {},
   "source": " "
  },
  {
   "cell_type": "markdown",
   "metadata": {},
   "source": "## CIDEr"
  },
  {
   "cell_type": "code",
   "execution_count": 15,
   "metadata": {},
   "outputs": [
    {
     "name": "stdout",
     "output_type": "stream",
     "text": "REFERENCE: the kitty is on the table and it is sleeping and the sky is blue\nCANDIDATE: the kitten is sleeping and it is on the table\n2.1205165063075446\n"
    }
   ],
   "source": "print(\"REFERENCE: \" + reference1)\nprint(\"CANDIDATE: \" + hypothesis1)\nscorer = COCOEval(\"data/\", \"ref1.json\", \"hyp1.json\", \"coco-val-df\")\nscorer.evaluate()\nprint(scorer.eval[\"CIDEr\"])"
  },
  {
   "cell_type": "code",
   "execution_count": 16,
   "metadata": {},
   "outputs": [
    {
     "name": "stdout",
     "output_type": "stream",
     "text": "REFERENCE: the kitty is on the table and it is sleeping and the sky is blue\nCANDIDATE: the kitty is on the table the kitty is sleeping\n2.4971833078695944\n"
    }
   ],
   "source": "print(\"REFERENCE: \" + reference1)\nprint(\"CANDIDATE: \" + hypothesis2)\nscorer = COCOEval(\"data/\", \"ref1.json\", \"hyp2.json\", \"coco-val-df\")\nscorer.evaluate()\nprint(scorer.eval[\"CIDEr\"])"
  },
  {
   "cell_type": "code",
   "execution_count": 17,
   "metadata": {},
   "outputs": [
    {
     "name": "stdout",
     "output_type": "stream",
     "text": "REFERENCE: the kitty is on the table and it is sleeping and the sky is blue\nCANDIDATE: the kitty is on the kitty is on the is on the the table and it\n3.176015793063404\n"
    }
   ],
   "source": "print(\"REFERENCE: \" + reference1)\nprint(\"CANDIDATE: \" + hypothesis3)\nscorer = COCOEval(\"data/\", \"ref1.json\", \"hyp3.json\", \"coco-val-df\")\nscorer.evaluate()\nprint(scorer.eval[\"CIDEr\"])"
  },
  {
   "cell_type": "code",
   "execution_count": 18,
   "metadata": {},
   "outputs": [
    {
     "name": "stdout",
     "output_type": "stream",
     "text": "REFERENCE: the kitty is on the table and it is sleeping and the sky is blue\nCANDIDATE: kitty sleeping on the table while the sky is blue\n2.892105900349855\n"
    }
   ],
   "source": "print(\"REFERENCE: \" + reference1)\nprint(\"CANDIDATE: \" + hypothesis4)\nscorer = COCOEval(\"data/\", \"ref1.json\", \"hyp4.json\", \"coco-val-df\")\nscorer.evaluate()\nprint(scorer.eval[\"CIDEr\"])"
  },
  {
   "cell_type": "code",
   "execution_count": null,
   "metadata": {},
   "outputs": [],
   "source": ""
  }
 ],
 "metadata": {
  "kernelspec": {
   "display_name": "Python 3",
   "language": "python",
   "name": "python3"
  },
  "language_info": {
   "codemirror_mode": {
    "name": "ipython",
    "version": 2
   },
   "file_extension": ".py",
   "mimetype": "text/x-python",
   "name": "python",
   "nbconvert_exporter": "python",
   "pygments_lexer": "ipython2",
   "version": "2.7.17"
  }
 },
 "nbformat": 4,
 "nbformat_minor": 2
}
